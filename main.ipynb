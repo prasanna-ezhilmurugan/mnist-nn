{
 "cells": [
  {
   "cell_type": "markdown",
   "metadata": {},
   "source": [
    "# MNIST Nueral Network Implementation"
   ]
  },
  {
   "cell_type": "code",
   "execution_count": 14,
   "metadata": {},
   "outputs": [],
   "source": [
    "import numpy as np\n",
    "import pandas as pd\n",
    "from matplotlib import pyplot as plt\n",
    "\n",
    "data = pd.read_csv('./mnist-nn/dataset/mnist_train.csv')"
   ]
  },
  {
   "cell_type": "code",
   "execution_count": 15,
   "metadata": {},
   "outputs": [],
   "source": [
    "data = np.array(data)\n",
    "m, n = data.shape\n",
    "np.random.shuffle(data) # shuffle before splitting into dev and training sets\n",
    "\n",
    "data_dev = data[0:1000].T\n",
    "Y_dev = data_dev[0]\n",
    "X_dev = data_dev[1:n]\n",
    "X_dev = X_dev / 255.\n",
    "\n",
    "data_train = data[1000:m].T\n",
    "y_train = data_train[0]\n",
    "x_train = data_train[1:n]\n",
    "x_train = x_train / 255.\n",
    "_,m_train = x_train.shape"
   ]
  },
  {
   "cell_type": "code",
   "execution_count": 17,
   "metadata": {},
   "outputs": [],
   "source": [
    "def init_params():\n",
    "    W1 = np.random.rand(10, 784) - 0.5\n",
    "    b1 = np.random.rand(10, 1) - 0.5\n",
    "    W2 = np.random.rand(10, 10) - 0.5\n",
    "    b2 = np.random.rand(10, 1) - 0.5\n",
    "    return W1, b1, W2, b2\n",
    "\n",
    "def ReLU(Z):\n",
    "    return np.maximum(Z, 0)\n",
    "\n",
    "def softmax(Z):\n",
    "    A = np.exp(Z) / np.sum(np.exp(Z), 0)\n",
    "    return A\n",
    "\n",
    "def forward_prop(W1, b1, W2, b2, X):\n",
    "    Z1 = W1.dot(X) + b1\n",
    "    A1 = ReLU(Z1)\n",
    "    Z2 = W2.dot(A1) + b2\n",
    "    A2 = softmax(Z2)\n",
    "    return Z1, A1, Z2, A2\n",
    "\n",
    "def deriv_ReLU(Z):\n",
    "    return Z>0\n",
    "\n",
    "def one_hot(Y):\n",
    "    one_hot_Y = np.zeros((Y.size, Y.max()+1))\n",
    "    one_hot_Y[np.arange(Y.size), Y] = 1\n",
    "    one_hot_Y = one_hot_Y.T\n",
    "    return one_hot_Y\n",
    "\n",
    "def backward_prop(Z1, A1, Z2, A2, W1, W2, X, Y):\n",
    "    one_hot_Y = one_hot(Y)\n",
    "    dZ2 = A2 - one_hot_Y\n",
    "    dW2 = 1/m * dZ2.dot(A1.T)\n",
    "    db2 = 1/m * np.sum(dZ2)\n",
    "    dZ1 = W2.T.dot(dZ2) * deriv_ReLU(Z1)\n",
    "    dW1 = 1/m * dZ1.dot(X.T)\n",
    "    db1 = 1/m * np.sum(dZ1)\n",
    "    return dW1, db1, dW2, db2\n",
    "\n",
    "def update_params(W1, b1, W2, b2, dW1, db1, dW2, db2, alpha):\n",
    "    W1 = W1 - alpha * dW1\n",
    "    b1 = b1 - alpha * db1\n",
    "    W2 = W2 - alpha * dW2\n",
    "    b2 = b2 - alpha * db2\n",
    "    return W1, b1, W2, b2"
   ]
  },
  {
   "cell_type": "code",
   "execution_count": 18,
   "metadata": {},
   "outputs": [],
   "source": [
    "def get_predictions(A2):\n",
    "    return np.argmax(A2, 0)\n",
    "\n",
    "def get_accuracy(prediction, Y):\n",
    "    print(prediction, Y)\n",
    "    return np.sum(prediction == Y) / Y.size\n",
    "\n",
    "def gradient_descent(X, Y, iterations, alpha):\n",
    "    W1, b1, W2, b2 = init_params()\n",
    "    for i in range(iterations):\n",
    "        Z1, A1, Z2, A2 = forward_prop(W1, b1, W2, b2, X)\n",
    "        dW1, db1, dW2, db2 = backward_prop(Z1, A1, Z2, A2, W1, W2, X, Y)\n",
    "        W1, b1, W2, b2 = update_params(W1, b1, W2, b2, dW1, db1, dW2, db2, alpha)\n",
    "        if (i+1)%10 == 0 :\n",
    "            print(\"iteration: \" + str(i+1))\n",
    "            prediction = get_predictions(A2)\n",
    "            print(get_accuracy(prediction, Y))\n",
    "    return W1, b1, W2, b2"
   ]
  },
  {
   "cell_type": "code",
   "execution_count": null,
   "metadata": {},
   "outputs": [
    {
     "name": "stdout",
     "output_type": "stream",
     "text": [
      "iteration: 10\n",
      "[3 5 5 ... 4 6 6] [3 3 9 ... 7 6 6]\n",
      "0.21210169491525424\n",
      "iteration: 20\n",
      "[1 5 6 ... 4 6 6] [3 3 9 ... 7 6 6]\n",
      "0.3079322033898305\n",
      "iteration: 30\n",
      "[1 5 6 ... 4 6 6] [3 3 9 ... 7 6 6]\n",
      "0.3865084745762712\n",
      "iteration: 40\n",
      "[1 5 9 ... 4 6 6] [3 3 9 ... 7 6 6]\n",
      "0.4414915254237288\n",
      "iteration: 50\n",
      "[1 5 9 ... 4 6 6] [3 3 9 ... 7 6 6]\n",
      "0.4845762711864407\n",
      "iteration: 60\n",
      "[1 5 9 ... 2 6 6] [3 3 9 ... 7 6 6]\n",
      "0.5184915254237288\n",
      "iteration: 70\n",
      "[1 5 9 ... 2 6 6] [3 3 9 ... 7 6 6]\n",
      "0.5502542372881356\n",
      "iteration: 80\n",
      "[1 5 9 ... 2 6 6] [3 3 9 ... 7 6 6]\n",
      "0.5793389830508474\n",
      "iteration: 90\n",
      "[3 5 9 ... 2 6 6] [3 3 9 ... 7 6 6]\n",
      "0.6051186440677966\n",
      "iteration: 100\n",
      "[3 5 9 ... 2 6 6] [3 3 9 ... 7 6 6]\n",
      "0.6277457627118644\n",
      "iteration: 110\n",
      "[3 5 4 ... 2 6 6] [3 3 9 ... 7 6 6]\n",
      "0.6479830508474577\n",
      "iteration: 120\n",
      "[3 5 4 ... 2 6 6] [3 3 9 ... 7 6 6]\n",
      "0.667\n",
      "iteration: 130\n",
      "[3 5 4 ... 7 6 6] [3 3 9 ... 7 6 6]\n",
      "0.6828135593220339\n",
      "iteration: 140\n",
      "[3 5 4 ... 7 6 6] [3 3 9 ... 7 6 6]\n",
      "0.6975762711864407\n",
      "iteration: 150\n",
      "[3 5 4 ... 7 6 6] [3 3 9 ... 7 6 6]\n",
      "0.7096949152542373\n",
      "iteration: 160\n",
      "[3 5 4 ... 7 6 6] [3 3 9 ... 7 6 6]\n",
      "0.7207627118644068\n",
      "iteration: 170\n",
      "[3 5 4 ... 7 6 6] [3 3 9 ... 7 6 6]\n",
      "0.731271186440678\n",
      "iteration: 180\n",
      "[3 5 4 ... 7 6 6] [3 3 9 ... 7 6 6]\n",
      "0.7402881355932204\n",
      "iteration: 190\n",
      "[3 5 4 ... 7 6 6] [3 3 9 ... 7 6 6]\n",
      "0.7493050847457627\n",
      "iteration: 200\n",
      "[3 5 4 ... 7 6 6] [3 3 9 ... 7 6 6]\n",
      "0.7568305084745762\n",
      "iteration: 210\n",
      "[3 5 4 ... 7 6 6] [3 3 9 ... 7 6 6]\n",
      "0.7642372881355932\n",
      "iteration: 220\n",
      "[3 5 4 ... 7 6 6] [3 3 9 ... 7 6 6]\n",
      "0.7709830508474577\n",
      "iteration: 230\n",
      "[3 5 9 ... 7 6 6] [3 3 9 ... 7 6 6]\n",
      "0.7766779661016949\n",
      "iteration: 240\n",
      "[3 5 9 ... 7 6 6] [3 3 9 ... 7 6 6]\n",
      "0.7811016949152543\n",
      "iteration: 250\n",
      "[3 5 9 ... 7 6 6] [3 3 9 ... 7 6 6]\n",
      "0.7861186440677966\n",
      "iteration: 260\n",
      "[3 5 9 ... 7 6 6] [3 3 9 ... 7 6 6]\n",
      "0.7909322033898305\n",
      "iteration: 270\n",
      "[3 5 9 ... 7 6 6] [3 3 9 ... 7 6 6]\n",
      "0.794864406779661\n",
      "iteration: 280\n",
      "[3 5 9 ... 7 6 6] [3 3 9 ... 7 6 6]\n",
      "0.7990169491525424\n",
      "iteration: 290\n",
      "[3 5 9 ... 7 6 6] [3 3 9 ... 7 6 6]\n",
      "0.8028813559322034\n",
      "iteration: 300\n",
      "[3 5 9 ... 7 6 6] [3 3 9 ... 7 6 6]\n",
      "0.8065254237288135\n",
      "iteration: 310\n",
      "[3 5 9 ... 7 6 6] [3 3 9 ... 7 6 6]\n",
      "0.8096949152542373\n",
      "iteration: 320\n",
      "[3 5 9 ... 7 6 6] [3 3 9 ... 7 6 6]\n",
      "0.8123728813559322\n",
      "iteration: 330\n",
      "[3 5 9 ... 7 6 6] [3 3 9 ... 7 6 6]\n",
      "0.8153728813559322\n",
      "iteration: 340\n",
      "[3 5 9 ... 7 6 6] [3 3 9 ... 7 6 6]\n",
      "0.818\n",
      "iteration: 350\n",
      "[3 5 9 ... 7 6 6] [3 3 9 ... 7 6 6]\n",
      "0.8205084745762712\n",
      "iteration: 360\n",
      "[3 5 9 ... 7 6 6] [3 3 9 ... 7 6 6]\n",
      "0.8228983050847458\n",
      "iteration: 370\n",
      "[3 5 9 ... 7 6 6] [3 3 9 ... 7 6 6]\n",
      "0.8251186440677966\n",
      "iteration: 380\n",
      "[3 5 9 ... 7 6 6] [3 3 9 ... 7 6 6]\n",
      "0.8271525423728814\n",
      "iteration: 390\n",
      "[3 5 9 ... 7 6 6] [3 3 9 ... 7 6 6]\n",
      "0.8293050847457627\n",
      "iteration: 400\n",
      "[3 5 9 ... 7 6 6] [3 3 9 ... 7 6 6]\n",
      "0.8311016949152542\n",
      "iteration: 410\n",
      "[3 5 9 ... 7 6 6] [3 3 9 ... 7 6 6]\n",
      "0.8333050847457627\n",
      "iteration: 420\n",
      "[3 5 9 ... 7 6 6] [3 3 9 ... 7 6 6]\n",
      "0.8349830508474576\n",
      "iteration: 430\n",
      "[3 5 9 ... 7 6 6] [3 3 9 ... 7 6 6]\n",
      "0.8370338983050848\n",
      "iteration: 440\n",
      "[3 5 9 ... 7 6 6] [3 3 9 ... 7 6 6]\n",
      "0.8384745762711865\n",
      "iteration: 450\n",
      "[3 5 9 ... 7 6 6] [3 3 9 ... 7 6 6]\n",
      "0.8401355932203389\n",
      "iteration: 460\n",
      "[3 5 9 ... 7 6 6] [3 3 9 ... 7 6 6]\n",
      "0.8416101694915255\n",
      "iteration: 470\n",
      "[3 5 9 ... 7 6 6] [3 3 9 ... 7 6 6]\n",
      "0.8429322033898305\n",
      "iteration: 480\n",
      "[3 5 9 ... 7 6 6] [3 3 9 ... 7 6 6]\n",
      "0.8439661016949153\n",
      "iteration: 490\n",
      "[3 5 9 ... 7 6 6] [3 3 9 ... 7 6 6]\n",
      "0.845457627118644\n",
      "iteration: 500\n",
      "[3 5 9 ... 7 6 6] [3 3 9 ... 7 6 6]\n",
      "0.8469152542372881\n"
     ]
    }
   ],
   "source": [
    "W1, b1, W2, b2 = gradient_descent(x_train, y_train, 500, 0.10)"
   ]
  },
  {
   "cell_type": "code",
   "execution_count": 21,
   "metadata": {},
   "outputs": [],
   "source": [
    "def make_predictions(X, W1, b1, W2, b2):\n",
    "    _, _, _, A2 = forward_prop(W1, b1, W2, b2, X)\n",
    "    predictions = get_predictions(A2)\n",
    "    return predictions\n",
    "\n",
    "def test_prediction(index, W1, b1, W2, b2):\n",
    "    current_image = x_train[:, index, None]\n",
    "    prediction = make_predictions(x_train[:, index, None], W1, b1, W2, b2)\n",
    "    label = y_train[index]\n",
    "    print(\"Prediction: \", prediction)\n",
    "    print(\"Label: \", label)\n",
    "    \n",
    "    current_image = current_image.reshape((28, 28)) * 255\n",
    "    plt.gray()\n",
    "    plt.imshow(current_image, interpolation='nearest')\n",
    "    plt.show()"
   ]
  },
  {
   "cell_type": "code",
   "execution_count": 23,
   "metadata": {},
   "outputs": [
    {
     "name": "stdout",
     "output_type": "stream",
     "text": [
      "Prediction:  [3]\n",
      "Label:  3\n"
     ]
    },
    {
     "data": {
      "image/png": "[encoded data removed]",
      "text/plain": [
       "<Figure size 640x480 with 1 Axes>"
      ]
     },
     "metadata": {},
     "output_type": "display_data"
    },
    {
     "name": "stdout",
     "output_type": "stream",
     "text": [
      "Prediction:  [5]\n",
      "Label:  3\n"
     ]
    },
    {
     "data": {
      "image/png": "[encoded data removed]",
      "text/plain": [
       "<Figure size 640x480 with 1 Axes>"
      ]
     },
     "metadata": {},
     "output_type": "display_data"
    },
    {
     "name": "stdout",
     "output_type": "stream",
     "text": [
      "Prediction:  [9]\n",
      "Label:  9\n"
     ]
    },
    {
     "data": {
      "image/png": "[encoded data removed]",
      "text/plain": [
       "<Figure size 640x480 with 1 Axes>"
      ]
     },
     "metadata": {},
     "output_type": "display_data"
    },
    {
     "name": "stdout",
     "output_type": "stream",
     "text": [
      "Prediction:  [8]\n",
      "Label:  8\n"
     ]
    },
    {
     "data": {
      "image/png": "[encoded data removed]",
      "text/plain": [
       "<Figure size 640x480 with 1 Axes>"
      ]
     },
     "metadata": {},
     "output_type": "display_data"
    },
    {
     "name": "stdout",
     "output_type": "stream",
     "text": [
      "Prediction:  [2]\n",
      "Label:  2\n"
     ]
    },
    {
     "data": {
      "image/png": "[encoded data removed]",
      "text/plain": [
       "<Figure size 640x480 with 1 Axes>"
      ]
     },
     "metadata": {},
     "output_type": "display_data"
    }
   ],
   "source": [
    "test_prediction(0, W1, b1, W2, b2)\n",
    "test_prediction(1, W1, b1, W2, b2)\n",
    "test_prediction(2, W1, b1, W2, b2)\n",
    "test_prediction(3, W1, b1, W2, b2)\n",
    "test_prediction(4, W1, b1, W2, b2)"
   ]
  },
  {
   "cell_type": "code",
   "execution_count": 24,
   "metadata": {},
   "outputs": [
    {
     "name": "stdout",
     "output_type": "stream",
     "text": [
      "[5 9 2 9 1 0 6 0 6 4 4 2 5 2 0 1 7 6 6 3 6 7 6 2 9 7 9 7 3 9 4 6 0 9 2 9 4\n",
      " 1 3 4 3 0 3 8 5 6 9 9 5 5 5 9 0 7 5 4 3 7 4 7 0 7 8 7 2 7 8 1 8 4 6 1 1 1\n",
      " 6 8 6 6 3 4 3 8 8 0 2 5 7 9 8 7 3 1 1 9 7 6 8 0 2 2 1 7 4 1 8 0 3 8 3 3 6\n",
      " 5 7 8 9 7 9 7 7 1 3 3 5 2 1 0 2 1 4 1 9 8 4 9 7 8 3 7 7 1 3 6 9 5 7 5 9 4\n",
      " 1 9 0 2 1 2 1 1 5 5 6 6 2 1 6 1 3 1 6 9 6 7 8 3 0 6 7 1 9 4 9 4 7 4 8 3 3\n",
      " 8 5 9 9 0 2 1 2 1 3 9 7 5 3 0 4 4 2 6 9 3 4 9 5 5 6 3 7 3 2 1 6 1 1 4 3 3\n",
      " 8 5 2 7 6 0 8 6 5 1 3 8 9 2 8 0 1 4 9 3 6 2 6 9 1 3 7 7 6 7 6 8 0 9 2 2 1\n",
      " 2 9 4 1 0 1 4 9 5 4 7 9 0 2 9 8 2 2 0 3 2 0 4 9 6 8 2 2 0 3 3 8 9 6 1 0 8\n",
      " 2 7 5 6 3 7 9 8 8 7 7 3 2 0 4 2 2 0 1 4 5 8 5 2 0 8 8 2 0 1 9 9 2 8 7 9 2\n",
      " 1 1 8 6 2 9 0 0 8 2 9 3 7 7 4 3 3 4 7 1 6 6 8 2 3 0 8 2 8 7 2 9 1 2 1 2 8\n",
      " 4 3 0 0 6 3 9 7 9 9 1 2 5 1 8 2 9 4 6 1 9 1 3 9 7 2 3 7 6 2 2 9 4 5 8 5 7\n",
      " 0 6 1 0 7 8 7 7 0 8 9 5 7 5 1 0 2 9 9 3 8 3 2 9 1 9 4 4 7 9 7 9 5 1 9 8 8\n",
      " 6 8 9 1 4 1 7 1 5 0 8 0 4 0 1 2 6 5 7 8 5 0 9 0 1 7 2 0 1 1 1 4 0 6 6 1 4\n",
      " 2 1 2 8 2 1 3 9 7 5 1 3 7 5 8 1 4 7 1 0 7 0 1 2 8 5 5 7 2 2 3 1 2 0 3 1 4\n",
      " 3 6 5 8 3 4 9 7 6 7 0 1 1 6 7 9 1 2 7 1 6 6 9 8 1 0 9 1 3 6 9 2 2 6 6 7 7\n",
      " 8 1 2 2 5 1 0 2 6 6 7 1 6 9 5 3 0 1 4 7 7 0 8 7 9 2 7 4 4 0 4 1 6 9 7 2 3\n",
      " 1 9 4 4 4 0 9 1 0 0 2 4 0 9 6 5 5 4 6 9 0 2 9 5 7 1 3 1 9 5 1 1 9 7 3 7 4\n",
      " 2 0 5 5 8 8 0 3 0 7 3 0 6 0 9 8 2 9 1 0 9 6 6 6 6 4 3 3 7 2 1 3 7 9 0 1 2\n",
      " 9 4 7 0 6 1 2 8 7 2 9 8 8 7 4 0 0 2 4 6 6 3 4 2 0 6 5 3 8 9 3 0 9 5 4 2 9\n",
      " 7 4 2 4 3 9 7 3 2 5 2 7 3 0 9 3 8 2 0 4 4 9 4 9 8 7 8 2 2 5 4 4 0 5 7 3 2\n",
      " 4 8 1 4 7 1 0 1 0 6 0 7 3 7 1 8 2 6 8 6 3 1 9 9 2 7 6 1 1 2 4 4 0 2 7 2 1\n",
      " 1 6 0 5 0 7 6 5 3 7 9 3 2 7 2 2 2 6 6 8 0 6 4 8 1 4 1 3 6 4 5 6 4 0 9 0 7\n",
      " 4 8 5 8 1 7 0 3 5 7 7 6 3 5 1 0 3 8 1 2 5 6 0 9 2 5 0 0 9 1 6 6 5 3 1 2 7\n",
      " 9 4 7 5 7 3 1 0 9 6 7 8 7 3 2 5 9 2 9 6 7 6 8 2 1 1 7 8 3 7 9 1 0 8 4 9 0\n",
      " 5 8 2 6 2 3 3 2 0 2 5 6 6 8 7 8 2 1 7 0 9 2 9 7 4 6 6 1 0 0 6 0 6 4 5 3 4\n",
      " 7 9 6 3 0 8 7 9 0 6 6 6 9 0 7 9 2 5 6 1 5 1 8 4 4 3 6 5 9 6 7 0 7 2 9 1 7\n",
      " 1 7 7 8 3 8 9 4 9 1 9 1 6 2 0 9 2 5 9 6 2 7 1 6 1 8 7 3 9 1 6 5 9 7 1 5 0\n",
      " 9] [5 9 2 9 1 0 3 0 6 4 9 8 8 2 0 1 9 6 6 3 6 9 6 2 9 7 9 7 3 9 4 6 0 9 2 9 4\n",
      " 1 3 4 3 7 3 8 5 2 9 9 5 4 5 9 0 7 5 6 3 7 4 7 0 7 8 7 2 3 8 1 8 4 5 1 1 1\n",
      " 6 3 6 6 8 4 3 2 8 0 2 5 7 9 8 8 3 1 1 9 7 6 8 0 6 2 1 7 4 1 8 0 3 8 3 5 6\n",
      " 5 7 8 9 7 4 9 7 1 7 3 5 2 1 0 2 1 4 1 9 8 4 9 7 8 3 7 7 1 5 6 7 5 7 5 9 4\n",
      " 1 4 0 2 1 2 1 8 5 5 6 5 2 1 6 1 5 1 6 4 6 3 8 5 0 6 7 1 4 4 9 4 5 4 8 5 3\n",
      " 8 5 9 7 0 2 1 2 1 3 9 7 3 3 0 4 9 2 5 9 3 4 9 5 5 6 3 7 3 2 1 6 1 1 4 8 3\n",
      " 0 5 2 7 8 0 8 6 5 1 3 8 9 2 8 0 1 4 9 3 5 2 6 9 1 3 7 7 6 7 6 8 0 4 2 2 1\n",
      " 2 4 4 7 0 1 4 9 5 4 7 4 0 1 4 0 2 2 0 2 2 0 4 9 6 8 2 2 0 3 3 3 9 6 1 0 0\n",
      " 6 4 6 6 3 2 4 8 8 7 7 3 2 0 4 3 2 0 1 2 5 8 5 2 0 0 8 2 0 1 9 4 2 8 7 9 2\n",
      " 1 1 8 6 2 9 0 0 8 2 9 3 7 7 4 3 3 4 7 1 6 8 8 2 3 0 8 2 8 7 2 9 1 2 1 2 5\n",
      " 4 3 0 0 6 3 9 7 9 9 1 2 4 1 2 2 9 4 6 8 5 1 3 7 7 2 8 7 6 4 2 9 4 5 8 5 7\n",
      " 0 6 1 0 7 8 7 7 0 8 9 5 7 3 1 6 2 9 9 3 8 3 2 9 1 9 4 4 7 9 7 7 5 1 9 8 8\n",
      " 6 8 9 1 4 1 7 1 5 0 8 0 0 0 1 7 6 5 7 8 5 0 9 0 1 7 2 0 7 1 1 4 0 6 6 1 4\n",
      " 2 6 2 8 2 1 3 9 7 5 1 3 7 5 8 1 4 7 1 3 7 0 1 2 8 1 5 7 2 2 3 1 2 0 3 1 4\n",
      " 3 6 2 8 3 4 7 7 6 3 9 1 1 6 7 9 1 7 9 1 6 6 9 8 1 0 9 1 3 0 9 2 5 6 6 9 7\n",
      " 8 1 2 2 8 1 0 2 6 6 7 1 5 9 5 3 0 1 4 2 7 0 8 7 4 2 7 2 4 0 4 1 6 9 9 2 3\n",
      " 1 9 4 4 4 5 7 1 0 0 2 4 9 9 5 5 5 4 6 7 0 2 9 3 7 1 3 1 9 5 7 1 9 7 2 7 4\n",
      " 2 0 5 5 2 5 0 3 0 7 8 0 6 0 9 8 2 4 1 0 7 0 6 6 6 4 3 3 7 2 8 3 7 9 0 1 2\n",
      " 9 9 7 0 6 1 2 8 9 2 4 8 8 7 9 0 0 2 4 6 6 3 4 3 0 6 5 3 8 7 3 0 9 5 4 2 9\n",
      " 7 4 2 4 3 9 2 3 3 5 2 7 3 0 8 2 8 2 0 4 3 3 5 4 5 7 8 2 3 5 4 4 0 5 7 9 2\n",
      " 4 8 1 4 7 5 0 1 0 6 0 7 3 7 5 5 2 6 8 6 3 1 9 4 2 7 6 1 1 2 4 4 0 2 7 2 1\n",
      " 1 6 0 5 0 7 6 5 8 7 9 3 2 7 4 2 2 6 6 8 0 2 4 8 1 4 1 3 6 4 5 4 4 0 9 0 7\n",
      " 4 8 5 6 1 7 0 3 5 7 7 2 3 7 1 5 5 8 9 8 5 6 0 7 2 5 0 0 9 1 5 6 5 3 1 2 7\n",
      " 9 4 7 5 7 8 1 0 9 5 7 8 7 3 2 5 8 2 9 6 7 6 2 2 1 1 7 8 3 7 2 1 0 8 4 4 0\n",
      " 5 8 2 6 2 3 3 8 0 2 0 8 6 8 7 8 2 1 7 0 4 2 9 9 4 0 6 1 0 0 6 0 6 4 5 3 4\n",
      " 7 9 5 3 0 0 9 7 0 5 6 5 9 0 7 7 2 8 6 1 5 1 6 4 4 3 6 5 7 6 7 0 7 2 9 1 7\n",
      " 1 7 7 8 3 8 9 4 9 1 9 1 6 2 0 8 2 5 9 5 2 7 1 5 1 8 7 3 9 1 6 3 9 7 1 5 0\n",
      " 9]\n"
     ]
    },
    {
     "data": {
      "text/plain": [
       "np.float64(0.832)"
      ]
     },
     "execution_count": 24,
     "metadata": {},
     "output_type": "execute_result"
    }
   ],
   "source": [
    "dev_predictions = make_predictions(X_dev, W1, b1, W2, b2)\n",
    "get_accuracy(dev_predictions, Y_dev)"
   ]
  }
 ],
 "metadata": {
  "kernelspec": {
   "display_name": "dlvc",
   "language": "python",
   "name": "python3"
  },
  "language_info": {
   "codemirror_mode": {
    "name": "ipython",
    "version": 3
   },
   "file_extension": ".py",
   "mimetype": "text/x-python",
   "name": "python",
   "nbconvert_exporter": "python",
   "pygments_lexer": "ipython3",
   "version": "3.11.11"
  }
 },
 "nbformat": 4,
 "nbformat_minor": 2
}
